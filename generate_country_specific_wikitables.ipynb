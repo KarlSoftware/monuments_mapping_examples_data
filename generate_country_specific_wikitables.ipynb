{
 "cells": [
  {
   "cell_type": "code",
   "execution_count": 1,
   "metadata": {
    "collapsed": false
   },
   "outputs": [],
   "source": [
    "import pandas as pd # Beautiful tool for data wrangling! e.g. '!pip install pandas' from a Notebook\n",
    "# See https://mariadb.com/blog/how-connect-python-programs-mariadb e.g. '!pip install mysql' from Notebook\n",
    "import MySQLdb \n",
    "import re\n",
    "from collections import Counter\n",
    "import os\n",
    "from collections import OrderedDict\n",
    "\n",
    "pd.set_option(\"display.max_rows\",35) # Useful when having large Pandas DataFrames like we do here"
   ]
  },
  {
   "cell_type": "code",
   "execution_count": 2,
   "metadata": {
    "collapsed": false
   },
   "outputs": [],
   "source": [
    "conn = MySQLdb.connect(user='mos', passwd='', db='monuments_db')\n",
    "cursor = conn.cursor()"
   ]
  },
  {
   "cell_type": "code",
   "execution_count": 3,
   "metadata": {
    "collapsed": false
   },
   "outputs": [
    {
     "data": {
      "text/plain": [
       "103"
      ]
     },
     "execution_count": 3,
     "metadata": {},
     "output_type": "execute_result"
    }
   ],
   "source": [
    "cursor.execute(\"SHOW TABLES\")\n",
    "non_country_tables = set([\"prox_search\",\"admin_tree\",\"commonscat\",\"image\",\"monuments_all\"])\n",
    "results = cursor.fetchall()\n",
    "all_tables = []\n",
    "for pair in results:\n",
    "    for item in pair:\n",
    "        all_tables.append(item)\n",
    "country_tables =  list(set(all_tables) - non_country_tables) # set difference, then convert back to list\n",
    "len(country_tables)"
   ]
  },
  {
   "cell_type": "code",
   "execution_count": 4,
   "metadata": {
    "collapsed": false
   },
   "outputs": [
    {
     "data": {
      "text/plain": [
       "6"
      ]
     },
     "execution_count": 4,
     "metadata": {},
     "output_type": "execute_result"
    }
   ],
   "source": [
    "cnt = Counter()\n",
    "for table in country_tables:\n",
    "    sql = 'SELECT count(*) FROM `{}`'.format(table)\n",
    "    cursor.execute(conn.escape_string(sql))\n",
    "    res = cursor.fetchone()\n",
    "    cnt.update({table: res[0]})\n",
    "empty_tables = []\n",
    "for table,count in cnt.items():\n",
    "    if count == 0:\n",
    "        empty_tables.append(table)\n",
    "len(empty_tables)"
   ]
  },
  {
   "cell_type": "code",
   "execution_count": 5,
   "metadata": {
    "collapsed": false
   },
   "outputs": [
    {
     "data": {
      "text/plain": [
       "97"
      ]
     },
     "execution_count": 5,
     "metadata": {},
     "output_type": "execute_result"
    }
   ],
   "source": [
    "final_tables = set(country_tables) - set(empty_tables)\n",
    "len(final_tables)"
   ]
  },
  {
   "cell_type": "code",
   "execution_count": 6,
   "metadata": {
    "collapsed": false
   },
   "outputs": [],
   "source": [
    "# test one country specific table  \n",
    "t = \"monuments_in_(en)\"\n",
    "sql = 'SELECT * FROM `{}`'.format(t)\n",
    "pl = pd.io.sql.read_sql(conn.escape_string(sql), conn)"
   ]
  },
  {
   "cell_type": "code",
   "execution_count": 7,
   "metadata": {
    "collapsed": false
   },
   "outputs": [
    {
     "data": {
      "text/plain": [
       "['number',\n",
       " 'description',\n",
       " 'location',\n",
       " 'address',\n",
       " 'district',\n",
       " 'lat',\n",
       " 'lon',\n",
       " 'image',\n",
       " 'commonscat',\n",
       " 'state_iso',\n",
       " 'circle',\n",
       " 'source',\n",
       " 'changed']"
      ]
     },
     "execution_count": 7,
     "metadata": {},
     "output_type": "execute_result"
    }
   ],
   "source": [
    "list(pl.keys())"
   ]
  },
  {
   "cell_type": "code",
   "execution_count": 31,
   "metadata": {
    "collapsed": false
   },
   "outputs": [
    {
     "data": {
      "text/plain": [
       "['N-AP-1',\n",
       " 'Hill Fort and buildings therein and the fortifications at the foot of the hill',\n",
       " '[[Gooty]]',\n",
       " '',\n",
       " '[[Anantapur district|Anantapur]]',\n",
       " 15.119999999999999,\n",
       " 77.629999999999995,\n",
       " 'Gooty Fort.JPG',\n",
       " '',\n",
       " 'IN-AP',\n",
       " '',\n",
       " '//en.wikipedia.org/w/index.php?title=List_of_Monuments_of_National_Importance_in_Andhra_Pradesh&oldid=715348799',\n",
       " Timestamp('2016-06-08 06:50:24')]"
      ]
     },
     "execution_count": 31,
     "metadata": {},
     "output_type": "execute_result"
    }
   ],
   "source": [
    "list(pl.ix[0])"
   ]
  },
  {
   "cell_type": "code",
   "execution_count": 45,
   "metadata": {
    "collapsed": false
   },
   "outputs": [],
   "source": [
    "def create_wikitables(table, df):\n",
    "    \"\"\"Takes a Pandas DataFrame object and writes wikitables to files named after the table they are\n",
    "    produced from to {the current Directory}/wikitables/\n",
    "    \"\"\"\n",
    "    country_fields = list(df.keys())\n",
    "    country_values = list(df.ix[0]) # get first row in table as example data from \n",
    "    country_data = list(zip(country_fields, country_values))\n",
    "    \n",
    "    table_header = '{| class=\"wikitable\"\\n'\n",
    "    table_name = '|+ '+table + \"\\n\"\n",
    "    # create table columns\n",
    "    table_columns = \"! heritage field\\n! example value\\n! Wikidata property\\n! Conversion\\n! Comment\\n|-\\n\"\n",
    "    table_rows = []\n",
    "    for (field, value) in zip(country_fields, country_values):\n",
    "        row=\"| \"+ str(field) + \"\\n| \" + str(value) + \"\\n|\\n| \\n| \\n|-\\n\"\n",
    "        table_rows.append(row)\n",
    "    \n",
    "    table_rows_str = \"\".join(table_rows)\n",
    "    # Fill in examples values from the first record in the table\n",
    "    table_footer = \"\\n|}\"\n",
    "    wikitable = table_header + table_name + table_columns + table_rows_str[:-1] + table_footer\n",
    "    \n",
    "    if os.path.isdir(\"./files\"):\n",
    "        out = open(\"./files/\" + table + \".wikitable\",\"w\")\n",
    "        out.write(wikitable)\n",
    "        out.flush()\n",
    "        \n",
    "        print(\"Directory ./files exists. Wrote file {}\".format(out.name))\n",
    "        out.close()\n",
    "    else:\n",
    "        os.mkdir(\"./files\")\n",
    "        with open(\"./files/\" + table + \".wikitable\",\"w\") as out:\n",
    "            out.write(wikitable)\n",
    "            print(\"./files doesn't exist\")"
   ]
  },
  {
   "cell_type": "code",
   "execution_count": 46,
   "metadata": {
    "collapsed": false
   },
   "outputs": [
    {
     "name": "stdout",
     "output_type": "stream",
     "text": [
      "Directory ./files exists. Wrote file ./files/monuments_ad_(ca).wikitable\n",
      "Directory ./files exists. Wrote file ./files/monuments_nl-prov_(nl).wikitable\n",
      "Directory ./files exists. Wrote file ./files/monuments_ve_(es).wikitable\n",
      "Directory ./files exists. Wrote file ./files/monuments_pa_(es).wikitable\n",
      "Directory ./files exists. Wrote file ./files/monuments_no_(no).wikitable\n",
      "Directory ./files exists. Wrote file ./files/monuments_nl-gem_(nl).wikitable\n",
      "Directory ./files exists. Wrote file ./files/monuments_fr_(ca).wikitable\n",
      "Directory ./files exists. Wrote file ./files/monuments_lu_(lb).wikitable\n",
      "Directory ./files exists. Wrote file ./files/se_fornmin.wikitable\n",
      "Directory ./files exists. Wrote file ./files/monuments_pl-old_(pl).wikitable\n",
      "Directory ./files exists. Wrote file ./files/monuments_be-bru_(nl).wikitable\n",
      "Directory ./files exists. Wrote file ./files/monuments_cm_(fr).wikitable\n",
      "Directory ./files exists. Wrote file ./files/monuments_pk_(en).wikitable\n",
      "Directory ./files exists. Wrote file ./files/monuments_uy_(es).wikitable\n",
      "Directory ./files exists. Wrote file ./files/monuments_es-gl_(gl).wikitable\n",
      "Directory ./files exists. Wrote file ./files/monuments_ro_(ro).wikitable\n",
      "Directory ./files exists. Wrote file ./files/monuments_ch_(it).wikitable\n",
      "Directory ./files exists. Wrote file ./files/monuments_np_(en).wikitable\n",
      "Directory ./files exists. Wrote file ./files/monuments_be-vlg_(en).wikitable\n",
      "Directory ./files exists. Wrote file ./files/monuments_de-he_(de).wikitable\n",
      "Directory ./files exists. Wrote file ./files/monuments_jo_(ar).wikitable\n",
      "Directory ./files exists. Wrote file ./files/monuments_ie_(en).wikitable\n",
      "Directory ./files exists. Wrote file ./files/monuments_ch3_(de).wikitable\n",
      "Directory ./files exists. Wrote file ./files/monuments_pt_(pt).wikitable\n",
      "Directory ./files exists. Wrote file ./files/monuments_gb-sct_(en).wikitable\n",
      "Directory ./files exists. Wrote file ./files/monuments_gb-nir_(en).wikitable\n",
      "Directory ./files exists. Wrote file ./files/monuments-old_ch_(it).wikitable\n",
      "Directory ./files exists. Wrote file ./files/monuments_by_(be-tarask).wikitable\n",
      "Directory ./files exists. Wrote file ./files/monuments_be-vlg_(nl).wikitable\n",
      "Directory ./files exists. Wrote file ./files/monuments_gb-wls_(en).wikitable\n",
      "Directory ./files exists. Wrote file ./files/monuments_az_(az).wikitable\n",
      "Directory ./files exists. Wrote file ./files/monuments_cn_(en).wikitable\n",
      "Directory ./files exists. Wrote file ./files/monuments_it-88_(ca).wikitable\n",
      "Directory ./files exists. Wrote file ./files/monuments_be-vlg_(fr).wikitable\n",
      "Directory ./files exists. Wrote file ./files/monuments_be-wal_(en).wikitable\n",
      "Directory ./files exists. Wrote file ./files/monuments_gb-eng_(en).wikitable\n",
      "Directory ./files exists. Wrote file ./files/monuments_ch_(fr).wikitable\n",
      "Directory ./files exists. Wrote file ./files/monuments_ca_(fr).wikitable\n",
      "Directory ./files exists. Wrote file ./files/monuments_us_(en).wikitable\n",
      "Directory ./files exists. Wrote file ./files/monuments_at_(de).wikitable\n",
      "Directory ./files exists. Wrote file ./files/monuments_bo_(es).wikitable\n",
      "Directory ./files exists. Wrote file ./files/monuments_co_(es).wikitable\n",
      "Directory ./files exists. Wrote file ./files/monuments_am_(hy).wikitable\n",
      "Directory ./files exists. Wrote file ./files/monuments_za_(en).wikitable\n",
      "Directory ./files exists. Wrote file ./files/monuments_nl-aw_(nl).wikitable\n",
      "Directory ./files exists. Wrote file ./files/se_ship.wikitable\n",
      "Directory ./files exists. Wrote file ./files/monuments_es_(ca).wikitable\n",
      "Directory ./files exists. Wrote file ./files/monuments-old_ch_(en).wikitable\n",
      "Directory ./files exists. Wrote file ./files/monuments_de-nrw-k_(de).wikitable\n",
      "Directory ./files exists. Wrote file ./files/monuments_us-ca_(en).wikitable\n",
      "Directory ./files exists. Wrote file ./files/monuments-old_ch_(de).wikitable\n",
      "Directory ./files exists. Wrote file ./files/monuments_tn_(fr).wikitable\n",
      "Directory ./files exists. Wrote file ./files/se_arbetsl.wikitable\n",
      "Directory ./files exists. Wrote file ./files/monuments_hk-hb_(en).wikitable\n",
      "Directory ./files exists. Wrote file ./files/monuments_ch_(de).wikitable\n",
      "Directory ./files exists. Wrote file ./files/monuments_sk_(sk).wikitable\n",
      "Directory ./files exists. Wrote file ./files/monuments_dk-bygninger_(da).wikitable\n",
      "Directory ./files exists. Wrote file ./files/monuments_mt_(de).wikitable\n",
      "Directory ./files exists. Wrote file ./files/monuments_de-nrw-bm_(de).wikitable\n",
      "Directory ./files exists. Wrote file ./files/monuments_fr_(fr).wikitable\n",
      "Directory ./files exists. Wrote file ./files/monuments_nl-aw_(en).wikitable\n",
      "Directory ./files exists. Wrote file ./files/monuments_fr-object_(fr).wikitable\n",
      "Directory ./files exists. Wrote file ./files/monuments_ar_(es).wikitable\n",
      "Directory ./files exists. Wrote file ./files/monuments_sv_(es).wikitable\n",
      "Directory ./files exists. Wrote file ./files/monuments_il_(he).wikitable\n",
      "Directory ./files exists. Wrote file ./files/monuments_nl_(nl).wikitable\n",
      "Directory ./files exists. Wrote file ./files/monuments_cz_(cs).wikitable\n",
      "Directory ./files exists. Wrote file ./files/monuments_es-vc_(ca).wikitable\n",
      "Directory ./files exists. Wrote file ./files/monuments_es_(es).wikitable\n",
      "Directory ./files exists. Wrote file ./files/monuments_de-by_(de).wikitable\n",
      "Directory ./files exists. Wrote file ./files/monuments_ph_(en).wikitable\n",
      "Directory ./files exists. Wrote file ./files/monuments_pl_(pl).wikitable\n",
      "Directory ./files exists. Wrote file ./files/monuments_dk-fortidsminder_(da).wikitable\n",
      "Directory ./files exists. Wrote file ./files/monuments_ru_(ru).wikitable\n",
      "Directory ./files exists. Wrote file ./files/monuments_mx_(es).wikitable\n",
      "Directory ./files exists. Wrote file ./files/monuments_it-bz_(de).wikitable\n",
      "Directory ./files exists. Wrote file ./files/monuments_hk_(en).wikitable\n",
      "Directory ./files exists. Wrote file ./files/monuments_cl_(es).wikitable\n",
      "Directory ./files exists. Wrote file ./files/monuments_hu_(hu).wikitable\n",
      "Directory ./files exists. Wrote file ./files/se_bbr.wikitable\n",
      "Directory ./files exists. Wrote file ./files/monuments_aq_(en).wikitable\n",
      "Directory ./files exists. Wrote file ./files/monuments_gh_(en).wikitable\n",
      "Directory ./files exists. Wrote file ./files/monuments_th_(th).wikitable\n",
      "Directory ./files exists. Wrote file ./files/monuments_sk_(de).wikitable\n",
      "Directory ./files exists. Wrote file ./files/monuments_it_(it).wikitable\n",
      "Directory ./files exists. Wrote file ./files/monuments_jp-nhs_(en).wikitable\n",
      "Directory ./files exists. Wrote file ./files/monuments_ua_(uk).wikitable\n",
      "Directory ./files exists. Wrote file ./files/monuments_in_(en).wikitable\n",
      "Directory ./files exists. Wrote file ./files/monuments-old_ch_(fr).wikitable\n",
      "Directory ./files exists. Wrote file ./files/monuments_be-wal_(nl).wikitable\n",
      "Directory ./files exists. Wrote file ./files/monuments_rs_(sr).wikitable\n",
      "Directory ./files exists. Wrote file ./files/monuments_ee_(et).wikitable\n",
      "Directory ./files exists. Wrote file ./files/monuments_be-wal_(fr).wikitable\n",
      "Directory ./files exists. Wrote file ./files/monuments_dz_(ar).wikitable\n",
      "Directory ./files exists. Wrote file ./files/monuments_es-ct_(ca).wikitable\n",
      "Directory ./files exists. Wrote file ./files/monuments_ch2_(de).wikitable\n",
      "Directory ./files exists. Wrote file ./files/monuments_ke_(en).wikitable\n"
     ]
    }
   ],
   "source": [
    "for table in final_tables:\n",
    "    sql = 'SELECT * FROM `{}`'.format(table)\n",
    "    df = pd.io.sql.read_sql(conn.escape_string(sql), conn)\n",
    "    create_wikitable(table, df)\n",
    "#%ls ./files"
   ]
  },
  {
   "cell_type": "code",
   "execution_count": null,
   "metadata": {
    "collapsed": true
   },
   "outputs": [],
   "source": []
  }
 ],
 "metadata": {
  "kernelspec": {
   "display_name": "Python 3",
   "language": "python",
   "name": "python3"
  },
  "language_info": {
   "codemirror_mode": {
    "name": "ipython",
    "version": 3
   },
   "file_extension": ".py",
   "mimetype": "text/x-python",
   "name": "python",
   "nbconvert_exporter": "python",
   "pygments_lexer": "ipython3",
   "version": "3.5.1"
  }
 },
 "nbformat": 4,
 "nbformat_minor": 0
}
