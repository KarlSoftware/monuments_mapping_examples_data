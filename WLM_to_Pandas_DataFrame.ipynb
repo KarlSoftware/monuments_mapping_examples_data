{
 "cells": [
  {
   "cell_type": "markdown",
   "metadata": {},
   "source": [
    "# Getting started with the tech side of moving WLM data to Wikidata\n",
    "![Wiki Loves Monuments Logo](https://upload.wikimedia.org/wikipedia/commons/f/f3/LUSITANA_WLM_2011_d.svg)"
   ]
  },
  {
   "cell_type": "markdown",
   "metadata": {},
   "source": [
    "## Introduction\n",
    "The purpose of this Notebook is to give anyone wanting to help out with the technical part of moving data from the Wiki Loves Monuments database to Wikidata as flying start. \n",
    "\n",
    "My name is [Mattias Östmar](https://meta.wikimedia.org/wiki/User:Mattias_%C3%96stmar_%28WMSE%29) and work for [Wikimedia Sverige](http://se.wikimedia.org) as developer as a part of the project [Connected Open Heritage](https://meta.wikimedia.org/wiki/Connected_Open_Heritage). \n",
    "\n",
    "I'm new to the Wikimedia community and platforms and am really a coding communicator with little experience of professional coding. Hopefully more people will decide, just like me, to learn to code late in life - at least enough to be able to help out with relatively simple coding tasks such as this.\n",
    "\n",
    "**Disclaimer** This is actual experimental code and probably full of bad coding practice and might even produce faulty results. Please report any errors you find to [me on mattias.ostmar(a) wikimedia.se](mailto:mattias.ostmar@wikimedia.se) so it can be corrected! \n",
    "\n",
    "If you find any other ways to improve this document - please let me know any way you find suitable.\n",
    "\n",
    "Thank you!"
   ]
  },
  {
   "cell_type": "markdown",
   "metadata": {},
   "source": [
    "## (optional) Install MariaDB on Ubuntu\n",
    "\n",
    "Here's a good tutorial if you have an Ubuntu computer: \n",
    "http://www.liquidweb.com/kb/how-to-install-mariadb-5-5-on-ubuntu-14-04-lts/\n",
    "\n",
    "Start MariaDB by typing \n",
    "```Bash\n",
    "mysql -u root -p # enter the password you set at installation\n",
    "```\n",
    "\n",
    "Now when you're signed in to MariaDB create a new empty database with no tables or nothing.\n",
    "\n",
    "```Bash\n",
    "CREATE DATABASE new_database;\n",
    "```\n",
    "\n",
    "And now you an sign out from MariaDB'\n",
    "```Bash\n",
    "exit\n",
    "```\n",
    "\n",
    "If everything has gone well you can now load the database file into MariaDB simply by\n",
    "typing from the terminal:\n",
    "```Bash\n",
    "mysql -h localhost -u <your_username> -p <your_password> databasename < filename\n",
    "```\n",
    "---------------------------------"
   ]
  },
  {
   "cell_type": "markdown",
   "metadata": {},
   "source": [
    "## Data preparation\n",
    "\n",
    "This is an example from a Swedish list of cultural heritage buildings used to produced this guide:\n",
    "\n",
    "https://www.wikidata.org/wiki/User:Mattias_%C3%96stmar_%28WMSE%29/how_to_map_WLM_data#Step_1:_What_is_implicity_known_about_the_data.3F.\n",
    "\n",
    "First, download a full dump of the WLM Database ('monuments_db') from here: \n",
    "http://toolserver.org/~erfgoed/monuments_db.sql.gz\n"
   ]
  },
  {
   "cell_type": "code",
   "execution_count": 24,
   "metadata": {
    "collapsed": false
   },
   "outputs": [],
   "source": [
    "# Boring prerequisites\n",
    "import pandas as pd # Beautiful tool for data wrangling! e.g. '!pip install pandas' from a Notebook\n",
    "import datetime\n",
    "import numpy as np\n",
    "pd.set_option(\"display.max_rows\",25) # Useful when having large Pandas DataFrames like we do here\n",
    "import mysql.connector as mariadb # See https://mariadb.com/blog/how-connect-python-programs-mariadb e.g. '!pip install mysql' from Notebook\n",
    "import csv "
   ]
  },
  {
   "cell_type": "markdown",
   "metadata": {},
   "source": [
    "### Setup a connection with local MariaDB"
   ]
  },
  {
   "cell_type": "code",
   "execution_count": 16,
   "metadata": {
    "collapsed": false
   },
   "outputs": [],
   "source": [
    "# Replace 'mos' with your username\n",
    "conn = mariadb.connect(user='mos', password='', database='monuments_db',buffered=True)\n",
    "cursor = conn.cursor()"
   ]
  },
  {
   "cell_type": "markdown",
   "metadata": {},
   "source": [
    "# Read SQL tables directly into Pandas DataFrame"
   ]
  },
  {
   "cell_type": "code",
   "execution_count": 5,
   "metadata": {
    "collapsed": false
   },
   "outputs": [
    {
     "data": {
      "text/plain": [
       "(5686, 22)"
      ]
     },
     "execution_count": 5,
     "metadata": {},
     "output_type": "execute_result"
    }
   ],
   "source": [
    "cursor.execute(\"SELECT * FROM monuments_all WHERE country='se-bbr'\")\n",
    "all_bbr = pd.io.sql.read_sql('select * from monuments_all WHERE country=\"se-bbr\"', conn)\n",
    "all_bbr.shape"
   ]
  },
  {
   "cell_type": "code",
   "execution_count": 6,
   "metadata": {
    "collapsed": false
   },
   "outputs": [
    {
     "data": {
      "text/plain": [
       "Index(['country', 'lang', 'project', 'id', 'adm0', 'adm1', 'adm2', 'adm3',\n",
       "       'adm4', 'name', 'address', 'municipality', 'lat', 'lon', 'lat_int',\n",
       "       'lon_int', 'image', 'commonscat', 'source', 'changed',\n",
       "       'monument_article', 'registrant_url'],\n",
       "      dtype='object')"
      ]
     },
     "execution_count": 6,
     "metadata": {},
     "output_type": "execute_result"
    }
   ],
   "source": [
    "all_bbr.keys()"
   ]
  },
  {
   "cell_type": "code",
   "execution_count": 7,
   "metadata": {
    "collapsed": false
   },
   "outputs": [
    {
     "data": {
      "text/plain": [
       "country                     object\n",
       "lang                        object\n",
       "project                     object\n",
       "id                          object\n",
       "adm0                        object\n",
       "adm1                        object\n",
       "adm2                        object\n",
       "adm3                        object\n",
       "adm4                        object\n",
       "name                        object\n",
       "address                     object\n",
       "municipality                object\n",
       "lat                        float64\n",
       "lon                        float64\n",
       "lat_int                    float64\n",
       "lon_int                    float64\n",
       "image                       object\n",
       "commonscat                  object\n",
       "source                      object\n",
       "changed             datetime64[ns]\n",
       "monument_article            object\n",
       "registrant_url              object\n",
       "dtype: object"
      ]
     },
     "execution_count": 7,
     "metadata": {},
     "output_type": "execute_result"
    }
   ],
   "source": [
    "all_bbr.dtypes"
   ]
  },
  {
   "cell_type": "code",
   "execution_count": 9,
   "metadata": {
    "collapsed": false
   },
   "outputs": [],
   "source": [
    "all_bbr.to_csv(\"./files/all_bbr.csv\")"
   ]
  },
  {
   "cell_type": "code",
   "execution_count": 10,
   "metadata": {
    "collapsed": false
   },
   "outputs": [
    {
     "name": "stdout",
     "output_type": "stream",
     "text": [
      ",country,lang,project,id,adm0,adm1,adm2,adm3,adm4,name,address,municipality,lat,lon,lat_int,lon_int,image,commonscat,source,changed,monument_article,registrant_url\r\n",
      "0,bytearray(b'se-bbr'),bytearray(b'sv'),wikipedia,21000001001755,bytearray(b'se'),bytearray(b'se-o'),Skövde,,,[[Vaholms bro]] (Skövde Vaholm 3:1),[[Vaholm]],Skövde,58.58737,14.00023,1172.0,280.0,Tidan vid vaholms brohus.JPG,,//sv.wikipedia.org/w/index.php?title=Lista_%C3%B6ver_byggnadsminnen_i_V%C3%A4stra_G%C3%B6talands_l%C3%A4n&oldid=34704927,2016-06-08 06:51:53,Vaholms_bro,http://www.bebyggelseregistret.raa.se/bbr2/anlaggning/visaHistorik.raa?page=historik&visaHistorik=true&anlaggningId=21000001001755\r\n",
      "1,bytearray(b'se-bbr'),bytearray(b'sv'),wikipedia,21000001107600,bytearray(b'se'),bytearray(b'se-f'),Värnamo,,,[[Bruno Mathssons villa]] (Rolstorp 5:4),\"Södrakull, Tånnö\",Värnamo,57.06516,14.0398,1141.0,281.0,,,//sv.wikipedia.org/w/index.php?title=Lista_%C3%B6ver_byggnadsminnen_i_J%C3%B6nk%C3%B6pings_l%C3%A4n&oldid=33805579,2016-06-08 06:51:51,Bruno_Mathssons_villa,http://www.bebyggelseregistret.raa.se/bbr2/anlaggning/visaHistorik.raa?page=historik&visaHistorik=true&anlaggningId=21000001107600\r\n"
     ]
    }
   ],
   "source": [
    "!head -n3 ./files/all_bbr.csv"
   ]
  },
  {
   "cell_type": "markdown",
   "metadata": {},
   "source": [
    "Ooops! We get the original bytearray objects (e.g. bytearray(b'se-bbr')) from the WLM database storage formate out. We need to convert them. "
   ]
  },
  {
   "cell_type": "code",
   "execution_count": 322,
   "metadata": {
    "collapsed": false
   },
   "outputs": [
    {
     "data": {
      "text/plain": [
       "country                     object\n",
       "lang                        object\n",
       "project                     object\n",
       "id                          object\n",
       "adm0                        object\n",
       "adm1                        object\n",
       "adm2                        object\n",
       "adm3                        object\n",
       "adm4                        object\n",
       "name                        object\n",
       "address                     object\n",
       "municipality                object\n",
       "lat                        float64\n",
       "lon                        float64\n",
       "lat_int                      int64\n",
       "lon_int                      int64\n",
       "image                       object\n",
       "commonscat                  object\n",
       "source                      object\n",
       "changed             datetime64[ns]\n",
       "monument_article            object\n",
       "registrant_url              object\n",
       "dtype: object"
      ]
     },
     "execution_count": 322,
     "metadata": {},
     "output_type": "execute_result"
    }
   ],
   "source": [
    "# First fill na values\n",
    "\n",
    "all_bbr[\"country\"] = all_bbr.country.str.decode(\"utf-8\").astype(\"str\")\n",
    "all_bbr[\"lang\"] = all_bbr.lang.str.decode(\"utf-8\").astype(\"str\")\n",
    "all_bbr[\"adm0\"] = all_bbr.adm0.str.decode(\"utf-8\")\n",
    "all_bbr[\"adm1\"] = all_bbr.adm1.str.decode(\"utf-8\")\n",
    "\n",
    "# We also want lat_int and lon_int to be integers, just to be correct\n",
    "all_bbr[\"lat_int\"] = all_bbr.lat_int.fillna(0).astype(\"int64\")\n",
    "all_bbr[\"lon_int\"] = all_bbr.lon_int.fillna(0).astype(\"int64\")\n",
    "all_bbr.dtypes"
   ]
  },
  {
   "cell_type": "code",
   "execution_count": 11,
   "metadata": {
    "collapsed": true
   },
   "outputs": [],
   "source": [
    "all_bbr.to_csv(\"./files/all_bbr.csv\")"
   ]
  },
  {
   "cell_type": "code",
   "execution_count": 13,
   "metadata": {
    "collapsed": false
   },
   "outputs": [
    {
     "name": "stdout",
     "output_type": "stream",
     "text": [
      ",country,lang,project,id,adm0,adm1,adm2,adm3,adm4,name,address,municipality,lat,lon,lat_int,lon_int,image,commonscat,source,changed,monument_article,registrant_url\r\n",
      "0,bytearray(b'se-bbr'),bytearray(b'sv'),wikipedia,21000001001755,bytearray(b'se'),bytearray(b'se-o'),Skövde,,,[[Vaholms bro]] (Skövde Vaholm 3:1),[[Vaholm]],Skövde,58.58737,14.00023,1172.0,280.0,Tidan vid vaholms brohus.JPG,,//sv.wikipedia.org/w/index.php?title=Lista_%C3%B6ver_byggnadsminnen_i_V%C3%A4stra_G%C3%B6talands_l%C3%A4n&oldid=34704927,2016-06-08 06:51:53,Vaholms_bro,http://www.bebyggelseregistret.raa.se/bbr2/anlaggning/visaHistorik.raa?page=historik&visaHistorik=true&anlaggningId=21000001001755\r\n",
      "1,bytearray(b'se-bbr'),bytearray(b'sv'),wikipedia,21000001107600,bytearray(b'se'),bytearray(b'se-f'),Värnamo,,,[[Bruno Mathssons villa]] (Rolstorp 5:4),\"Södrakull, Tånnö\",Värnamo,57.06516,14.0398,1141.0,281.0,,,//sv.wikipedia.org/w/index.php?title=Lista_%C3%B6ver_byggnadsminnen_i_J%C3%B6nk%C3%B6pings_l%C3%A4n&oldid=33805579,2016-06-08 06:51:51,Bruno_Mathssons_villa,http://www.bebyggelseregistret.raa.se/bbr2/anlaggning/visaHistorik.raa?page=historik&visaHistorik=true&anlaggningId=21000001107600\r\n"
     ]
    }
   ],
   "source": [
    "!head -n 3 ./files/all_bbr.csv"
   ]
  },
  {
   "cell_type": "markdown",
   "metadata": {},
   "source": [
    "OK. Now we've got those strings in a proper readable format."
   ]
  },
  {
   "cell_type": "markdown",
   "metadata": {},
   "source": [
    "## Create DataFrame for country specific table 'monuments_all_se-bbr_(sv)' a.k.a 'se_bbr'"
   ]
  },
  {
   "cell_type": "code",
   "execution_count": 32,
   "metadata": {
    "collapsed": false
   },
   "outputs": [
    {
     "data": {
      "text/plain": [
       "(5686, 16)"
      ]
     },
     "execution_count": 32,
     "metadata": {},
     "output_type": "execute_result"
    }
   ],
   "source": [
    "table_name = \"se_bbr\" # I've renamed monuments_se-bbr_(se) to 'se_bbr' in local database, change to correct name\n",
    "se_bbr = pd.io.sql.read_sql('select * from se_bbr', conn)\n",
    "se_bbr.shape"
   ]
  },
  {
   "cell_type": "code",
   "execution_count": 33,
   "metadata": {
    "collapsed": false
   },
   "outputs": [
    {
     "data": {
      "text/plain": [
       "Index(['bbr', 'namn', 'region-iso', 'funktion', 'byggar', 'arkitekt', 'plats',\n",
       "       'kommun', 'lat', 'lon', 'bild', 'commonscat', 'source', 'changed',\n",
       "       'monument_article', 'registrant_url'],\n",
       "      dtype='object')"
      ]
     },
     "execution_count": 33,
     "metadata": {},
     "output_type": "execute_result"
    }
   ],
   "source": [
    "se_bbr.keys()"
   ]
  },
  {
   "cell_type": "code",
   "execution_count": 34,
   "metadata": {
    "collapsed": false
   },
   "outputs": [
    {
     "data": {
      "text/plain": [
       "bbr                         object\n",
       "namn                        object\n",
       "region-iso                  object\n",
       "funktion                    object\n",
       "byggar                      object\n",
       "arkitekt                    object\n",
       "plats                       object\n",
       "kommun                      object\n",
       "lat                        float64\n",
       "lon                        float64\n",
       "bild                        object\n",
       "commonscat                  object\n",
       "source                      object\n",
       "changed             datetime64[ns]\n",
       "monument_article            object\n",
       "registrant_url              object\n",
       "dtype: object"
      ]
     },
     "execution_count": 34,
     "metadata": {},
     "output_type": "execute_result"
    }
   ],
   "source": [
    "se_bbr.dtypes"
   ]
  },
  {
   "cell_type": "code",
   "execution_count": 35,
   "metadata": {
    "collapsed": true
   },
   "outputs": [],
   "source": [
    "se_bbr.to_csv(\"./files/se_bbr.csv\")"
   ]
  },
  {
   "cell_type": "code",
   "execution_count": 36,
   "metadata": {
    "collapsed": false
   },
   "outputs": [
    {
     "name": "stdout",
     "output_type": "stream",
     "text": [
      ",bbr,namn,region-iso,funktion,byggar,arkitekt,plats,kommun,lat,lon,bild,commonscat,source,changed,monument_article,registrant_url\r\n",
      "0,21300000013342,[[Ekolsunds f.d. värdshus]] (Ekolsund 3:7),SE-C,Gästgivargård (1 byggnad),1770-talet,,,Enköping,59.65269,17.36559,Ekolsunds_vardshus.jpg,,//sv.wikipedia.org/w/index.php?title=Lista_%C3%B6ver_byggnadsminnen_i_Uppsala_l%C3%A4n&oldid=30716291,2016-06-08 06:51:46,Ekolsunds_f.d._värdshus,http://www.bebyggelseregistret.raa.se/bbr2/anlaggning/visaHistorik.raa?page=historik&visaHistorik=true&anlaggningId=21300000013342\r\n",
      "1,21300000013350,[[Ekolsunds slott]] (Ekolsund 1:227; f.d. 1:102),SE-C,\"Herrgård,Livsmedelsindustri,Bageri,Säteri (3 byggnader)\",1630-talet,,,Enköping,59.65075,17.36639,Ekolsund_2.jpg,,//sv.wikipedia.org/w/index.php?title=Lista_%C3%B6ver_byggnadsminnen_i_Uppsala_l%C3%A4n&oldid=30716291,2016-06-08 06:51:46,Ekolsunds_slott,http://www.bebyggelseregistret.raa.se/bbr2/anlaggning/visaHistorik.raa?page=historik&visaHistorik=true&anlaggningId=21300000013350\r\n"
     ]
    }
   ],
   "source": [
    "!head -n3 ./files/se_bbr.csv"
   ]
  },
  {
   "cell_type": "code",
   "execution_count": null,
   "metadata": {
    "collapsed": true
   },
   "outputs": [],
   "source": []
  }
 ],
 "metadata": {
  "kernelspec": {
   "display_name": "Python 3",
   "language": "python",
   "name": "python3"
  },
  "language_info": {
   "codemirror_mode": {
    "name": "ipython",
    "version": 3
   },
   "file_extension": ".py",
   "mimetype": "text/x-python",
   "name": "python",
   "nbconvert_exporter": "python",
   "pygments_lexer": "ipython3",
   "version": "3.5.1"
  }
 },
 "nbformat": 4,
 "nbformat_minor": 0
}
