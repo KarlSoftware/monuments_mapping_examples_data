{
 "cells": [
  {
   "cell_type": "code",
   "execution_count": 18,
   "metadata": {
    "collapsed": true
   },
   "outputs": [],
   "source": [
    "import MySQLdb\n",
    "import pickle\n",
    "from collections import Counter\n",
    "import pandas as pd"
   ]
  },
  {
   "cell_type": "code",
   "execution_count": 12,
   "metadata": {
    "collapsed": false
   },
   "outputs": [
    {
     "data": {
      "text/plain": [
       "0"
      ]
     },
     "execution_count": 12,
     "metadata": {},
     "output_type": "execute_result"
    }
   ],
   "source": [
    "conn = MySQLdb.connect(user='mos', passwd='', db='monuments_db', charset='utf8', use_unicode=True)\n",
    "cursor = conn.cursor()\n",
    "cursor.execute(\"SET NAMES utf8\")"
   ]
  },
  {
   "cell_type": "code",
   "execution_count": 13,
   "metadata": {
    "collapsed": true
   },
   "outputs": [],
   "source": [
    "def create_list_of_source_tables_pickle():\n",
    "    cursor.execute(\"SHOW TABLES\")\n",
    "    non_country_tables = set([\"prox_search\",\"admin_tree\",\"commonscat\",\"image\",\"monuments_all\"])\n",
    "    results = cursor.fetchall()\n",
    "    all_tables = []\n",
    "    for pair in results:\n",
    "        for item in pair:\n",
    "            all_tables.append(item)\n",
    "    country_tables =  list(set(all_tables) - non_country_tables) # set difference, then convert back to list\n",
    "    print(\"len(country_tables). {}\".format(len(country_tables)))\n",
    "    \n",
    "    cnt = Counter()\n",
    "    for table in country_tables:\n",
    "        sql = 'SELECT count(*) FROM `{}`'.format(table)\n",
    "        cursor.execute(conn.escape_string(sql))\n",
    "        res = cursor.fetchone()\n",
    "        cnt.update({table: res[0]})\n",
    "    empty_tables = []\n",
    "    for table,count in cnt.items():\n",
    "        if count == 0:\n",
    "            empty_tables.append(table)\n",
    "    print(\"len(empty_tables): {}\".format(len(empty_tables)))\n",
    "    \n",
    "    final_tables = set(country_tables) - set(empty_tables)\n",
    "    print(\"len(final_tables): {}\".format(len(final_tables)))\n",
    "    pickle.dump(final_tables, open(\"./final_tables.pickle\",\"wb\"))"
   ]
  },
  {
   "cell_type": "code",
   "execution_count": 14,
   "metadata": {
    "collapsed": true
   },
   "outputs": [],
   "source": [
    "def create_country_codes_pickle():\n",
    "    print(list(dict(df.country.value_counts()).keys()))\n",
    "    country_codes = list(dict(df.country.value_counts()).keys())\n",
    "    pickle.dump(country_codes, open(\"./country_codes.pickle\",\"wb\"))"
   ]
  },
  {
   "cell_type": "code",
   "execution_count": 15,
   "metadata": {
    "collapsed": false
   },
   "outputs": [
    {
     "name": "stdout",
     "output_type": "stream",
     "text": [
      "len(country_tables). 103\n",
      "len(empty_tables): 6\n",
      "len(final_tables): 97\n"
     ]
    }
   ],
   "source": [
    "create_list_of_source_tables_pickle()"
   ]
  },
  {
   "cell_type": "code",
   "execution_count": 17,
   "metadata": {
    "collapsed": false
   },
   "outputs": [
    {
     "ename": "NameError",
     "evalue": "name 'pd' is not defined",
     "output_type": "error",
     "traceback": [
      "\u001b[1;31m---------------------------------------------------------------------------\u001b[0m",
      "\u001b[1;31mNameError\u001b[0m                                 Traceback (most recent call last)",
      "\u001b[1;32m<ipython-input-17-f356d49781c4>\u001b[0m in \u001b[0;36m<module>\u001b[1;34m()\u001b[0m\n\u001b[0;32m      1\u001b[0m \u001b[1;31m# Load full table into memory\u001b[0m\u001b[1;33m\u001b[0m\u001b[1;33m\u001b[0m\u001b[0m\n\u001b[0;32m      2\u001b[0m \u001b[0msql\u001b[0m \u001b[1;33m=\u001b[0m \u001b[1;34m\"SELECT * FROM monuments_all\"\u001b[0m\u001b[1;33m\u001b[0m\u001b[0m\n\u001b[1;32m----> 3\u001b[1;33m \u001b[0mdf\u001b[0m \u001b[1;33m=\u001b[0m \u001b[0mpd\u001b[0m\u001b[1;33m.\u001b[0m\u001b[0mio\u001b[0m\u001b[1;33m.\u001b[0m\u001b[0msql\u001b[0m\u001b[1;33m.\u001b[0m\u001b[0mread_sql\u001b[0m\u001b[1;33m(\u001b[0m\u001b[0mconn\u001b[0m\u001b[1;33m.\u001b[0m\u001b[0mescape_string\u001b[0m\u001b[1;33m(\u001b[0m\u001b[0msql\u001b[0m\u001b[1;33m)\u001b[0m\u001b[1;33m,\u001b[0m \u001b[0mconn\u001b[0m\u001b[1;33m)\u001b[0m\u001b[1;33m\u001b[0m\u001b[0m\n\u001b[0m\u001b[0;32m      4\u001b[0m \u001b[1;33m\u001b[0m\u001b[0m\n\u001b[0;32m      5\u001b[0m \u001b[0mcreate_country_codes_pickle\u001b[0m\u001b[1;33m(\u001b[0m\u001b[1;33m)\u001b[0m\u001b[1;33m\u001b[0m\u001b[0m\n",
      "\u001b[1;31mNameError\u001b[0m: name 'pd' is not defined"
     ]
    }
   ],
   "source": [
    "# Load full table into memory\n",
    "sql = \"SELECT * FROM monuments_all\"\n",
    "df = pd.io.sql.read_sql(conn.escape_string(sql), conn)\n",
    "\n",
    "create_country_codes_pickle()"
   ]
  },
  {
   "cell_type": "code",
   "execution_count": null,
   "metadata": {
    "collapsed": true
   },
   "outputs": [],
   "source": []
  }
 ],
 "metadata": {
  "kernelspec": {
   "display_name": "Python 3",
   "language": "python",
   "name": "python3"
  },
  "language_info": {
   "codemirror_mode": {
    "name": "ipython",
    "version": 3
   },
   "file_extension": ".py",
   "mimetype": "text/x-python",
   "name": "python",
   "nbconvert_exporter": "python",
   "pygments_lexer": "ipython3",
   "version": "3.5.1"
  }
 },
 "nbformat": 4,
 "nbformat_minor": 0
}
